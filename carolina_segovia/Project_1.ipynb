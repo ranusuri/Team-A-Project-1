{
 "cells": [
  {
   "cell_type": "markdown",
   "id": "84f231f1",
   "metadata": {},
   "source": [
    "# Covid-19 Mask Mandates\n",
    "## View and compare USA vs Global\n",
    "## View and compare infection rates by US States with mandate\n",
    "\n"
   ]
  },
  {
   "cell_type": "markdown",
   "id": "01716cc1",
   "metadata": {},
   "source": [
    "# Data Sources: data.gov and ourworldindata.org \n",
    "\n",
    " https://catalog.data.gov/dataset/u-s-state-and-territorial-public-mask-mandates-from-april-10-2020-through-january-10-2021--e0ce3\n",
    "\n",
    "https://catalog.data.gov/dataset/u-s-state-and-territorial-public-mask-mandates-from-april-10-2020-through-january-10-2021--e0ce3\n",
    "\n",
    " https://ourworldindata.org/covid-face-coverings"
   ]
  },
  {
   "cell_type": "markdown",
   "id": "e971c9d4",
   "metadata": {},
   "source": [
    "# Steps\n",
    "1. Get mask mandate data for US country\n",
    "2. Dates should be from May2020 to Dec2021\n",
    "3. Group mask mandates by US states by month"
   ]
  },
  {
   "cell_type": "code",
   "execution_count": 1,
   "id": "761e23ca",
   "metadata": {},
   "outputs": [],
   "source": [
    "# Dependencies\n",
    "import csv\n",
    "import os\n",
    "import numpy as np\n",
    "import requests\n",
    "import pandas as pd\n",
    "import gmaps\n",
    "import matplotlib.pyplot as plt\n",
    "import datetime\n",
    "import time\n",
    "\n"
   ]
  },
  {
   "cell_type": "code",
   "execution_count": 2,
   "id": "033aa2e8",
   "metadata": {},
   "outputs": [],
   "source": [
    "# Study data files\n",
    "file_to_load = \"Resources/face-covering-policies-covid.csv\"\n",
    "\n",
    "# Read the coverings data and study results\n",
    "face_coverings_df = pd.read_csv(file_to_load)\n",
    "# face_coverings_df\n"
   ]
  },
  {
   "cell_type": "code",
   "execution_count": 3,
   "id": "f7674b94",
   "metadata": {},
   "outputs": [
    {
     "data": {
      "text/html": [
       "<div>\n",
       "<style scoped>\n",
       "    .dataframe tbody tr th:only-of-type {\n",
       "        vertical-align: middle;\n",
       "    }\n",
       "\n",
       "    .dataframe tbody tr th {\n",
       "        vertical-align: top;\n",
       "    }\n",
       "\n",
       "    .dataframe thead th {\n",
       "        text-align: right;\n",
       "    }\n",
       "</style>\n",
       "<table border=\"1\" class=\"dataframe\">\n",
       "  <thead>\n",
       "    <tr style=\"text-align: right;\">\n",
       "      <th></th>\n",
       "      <th>Entity</th>\n",
       "      <th>Code</th>\n",
       "      <th>Day</th>\n",
       "      <th>facial_coverings</th>\n",
       "    </tr>\n",
       "  </thead>\n",
       "  <tbody>\n",
       "    <tr>\n",
       "      <th>132258</th>\n",
       "      <td>United States</td>\n",
       "      <td>USA</td>\n",
       "      <td>1/1/2020</td>\n",
       "      <td>0</td>\n",
       "    </tr>\n",
       "    <tr>\n",
       "      <th>132259</th>\n",
       "      <td>United States</td>\n",
       "      <td>USA</td>\n",
       "      <td>1/2/2020</td>\n",
       "      <td>0</td>\n",
       "    </tr>\n",
       "    <tr>\n",
       "      <th>132260</th>\n",
       "      <td>United States</td>\n",
       "      <td>USA</td>\n",
       "      <td>1/3/2020</td>\n",
       "      <td>0</td>\n",
       "    </tr>\n",
       "    <tr>\n",
       "      <th>132261</th>\n",
       "      <td>United States</td>\n",
       "      <td>USA</td>\n",
       "      <td>1/4/2020</td>\n",
       "      <td>0</td>\n",
       "    </tr>\n",
       "    <tr>\n",
       "      <th>132262</th>\n",
       "      <td>United States</td>\n",
       "      <td>USA</td>\n",
       "      <td>1/5/2020</td>\n",
       "      <td>0</td>\n",
       "    </tr>\n",
       "    <tr>\n",
       "      <th>...</th>\n",
       "      <td>...</td>\n",
       "      <td>...</td>\n",
       "      <td>...</td>\n",
       "      <td>...</td>\n",
       "    </tr>\n",
       "    <tr>\n",
       "      <th>133016</th>\n",
       "      <td>United States</td>\n",
       "      <td>USA</td>\n",
       "      <td>1/28/2022</td>\n",
       "      <td>2</td>\n",
       "    </tr>\n",
       "    <tr>\n",
       "      <th>133017</th>\n",
       "      <td>United States</td>\n",
       "      <td>USA</td>\n",
       "      <td>1/29/2022</td>\n",
       "      <td>2</td>\n",
       "    </tr>\n",
       "    <tr>\n",
       "      <th>133018</th>\n",
       "      <td>United States</td>\n",
       "      <td>USA</td>\n",
       "      <td>1/30/2022</td>\n",
       "      <td>2</td>\n",
       "    </tr>\n",
       "    <tr>\n",
       "      <th>133019</th>\n",
       "      <td>United States</td>\n",
       "      <td>USA</td>\n",
       "      <td>1/31/2022</td>\n",
       "      <td>2</td>\n",
       "    </tr>\n",
       "    <tr>\n",
       "      <th>133020</th>\n",
       "      <td>United States</td>\n",
       "      <td>USA</td>\n",
       "      <td>2/1/2022</td>\n",
       "      <td>3</td>\n",
       "    </tr>\n",
       "  </tbody>\n",
       "</table>\n",
       "<p>763 rows × 4 columns</p>\n",
       "</div>"
      ],
      "text/plain": [
       "               Entity Code        Day  facial_coverings\n",
       "132258  United States  USA   1/1/2020                 0\n",
       "132259  United States  USA   1/2/2020                 0\n",
       "132260  United States  USA   1/3/2020                 0\n",
       "132261  United States  USA   1/4/2020                 0\n",
       "132262  United States  USA   1/5/2020                 0\n",
       "...               ...  ...        ...               ...\n",
       "133016  United States  USA  1/28/2022                 2\n",
       "133017  United States  USA  1/29/2022                 2\n",
       "133018  United States  USA  1/30/2022                 2\n",
       "133019  United States  USA  1/31/2022                 2\n",
       "133020  United States  USA   2/1/2022                 3\n",
       "\n",
       "[763 rows x 4 columns]"
      ]
     },
     "execution_count": 3,
     "metadata": {},
     "output_type": "execute_result"
    }
   ],
   "source": [
    "# Get US data only\n",
    "\n",
    "us_face_coverings_df = face_coverings_df.loc[face_coverings_df[\"Entity\"] == \"United States\", :]\n",
    "us_face_coverings_df"
   ]
  },
  {
   "cell_type": "code",
   "execution_count": 4,
   "id": "fb94a592",
   "metadata": {},
   "outputs": [
    {
     "data": {
      "text/plain": [
       "Entity              object\n",
       "Code                object\n",
       "Day                 object\n",
       "facial_coverings     int64\n",
       "dtype: object"
      ]
     },
     "execution_count": 4,
     "metadata": {},
     "output_type": "execute_result"
    }
   ],
   "source": [
    "# Find data types\n",
    "\n",
    "us_face_coverings_df.dtypes"
   ]
  },
  {
   "cell_type": "code",
   "execution_count": 5,
   "id": "fe3bc8d3",
   "metadata": {},
   "outputs": [],
   "source": [
    "# Format Date column\n",
    "\n",
    "#us_face_coverings_df[\"Day\"] = pd.to_datetime(us_face_coverings_df[\"Day\"], format ='%Y%m%d')\n",
    "\n",
    "#countries_6_variants_df['date'] = pd.to_datetime(countries_6_variants_df.date)\n"
   ]
  },
  {
   "cell_type": "code",
   "execution_count": 10,
   "id": "5706194f",
   "metadata": {},
   "outputs": [
    {
     "data": {
      "text/html": [
       "<div>\n",
       "<style scoped>\n",
       "    .dataframe tbody tr th:only-of-type {\n",
       "        vertical-align: middle;\n",
       "    }\n",
       "\n",
       "    .dataframe tbody tr th {\n",
       "        vertical-align: top;\n",
       "    }\n",
       "\n",
       "    .dataframe thead th {\n",
       "        text-align: right;\n",
       "    }\n",
       "</style>\n",
       "<table border=\"1\" class=\"dataframe\">\n",
       "  <thead>\n",
       "    <tr style=\"text-align: right;\">\n",
       "      <th></th>\n",
       "      <th>Entity</th>\n",
       "      <th>Code</th>\n",
       "      <th>Day</th>\n",
       "      <th>facial_coverings</th>\n",
       "    </tr>\n",
       "  </thead>\n",
       "  <tbody>\n",
       "    <tr>\n",
       "      <th>132289</th>\n",
       "      <td>United States</td>\n",
       "      <td>USA</td>\n",
       "      <td>2/1/2020</td>\n",
       "      <td>0</td>\n",
       "    </tr>\n",
       "    <tr>\n",
       "      <th>132290</th>\n",
       "      <td>United States</td>\n",
       "      <td>USA</td>\n",
       "      <td>2/2/2020</td>\n",
       "      <td>0</td>\n",
       "    </tr>\n",
       "    <tr>\n",
       "      <th>132291</th>\n",
       "      <td>United States</td>\n",
       "      <td>USA</td>\n",
       "      <td>2/3/2020</td>\n",
       "      <td>0</td>\n",
       "    </tr>\n",
       "    <tr>\n",
       "      <th>132292</th>\n",
       "      <td>United States</td>\n",
       "      <td>USA</td>\n",
       "      <td>2/4/2020</td>\n",
       "      <td>0</td>\n",
       "    </tr>\n",
       "    <tr>\n",
       "      <th>132293</th>\n",
       "      <td>United States</td>\n",
       "      <td>USA</td>\n",
       "      <td>2/5/2020</td>\n",
       "      <td>0</td>\n",
       "    </tr>\n",
       "  </tbody>\n",
       "</table>\n",
       "</div>"
      ],
      "text/plain": [
       "               Entity Code       Day  facial_coverings\n",
       "132289  United States  USA  2/1/2020                 0\n",
       "132290  United States  USA  2/2/2020                 0\n",
       "132291  United States  USA  2/3/2020                 0\n",
       "132292  United States  USA  2/4/2020                 0\n",
       "132293  United States  USA  2/5/2020                 0"
      ]
     },
     "execution_count": 10,
     "metadata": {},
     "output_type": "execute_result"
    }
   ],
   "source": [
    "# Specify date range of 01/01/2020 to 12/31/2021\n",
    "\n",
    "begin_date = \"1/1/2020\"\n",
    "end_date = \"12/31/2021\"\n",
    "\n",
    "new_maskdata_df = us_face_coverings_df.loc[(us_face_coverings_df['Day'] >=begin_date) & (us_face_coverings_df['Day'] >=end_date)]\n",
    "new_maskdata_df.head()\n",
    "                                            "
   ]
  },
  {
   "cell_type": "code",
   "execution_count": null,
   "id": "3a76b958",
   "metadata": {},
   "outputs": [],
   "source": []
  }
 ],
 "metadata": {
  "kernelspec": {
   "display_name": "Python 3",
   "language": "python",
   "name": "python3"
  },
  "language_info": {
   "codemirror_mode": {
    "name": "ipython",
    "version": 3
   },
   "file_extension": ".py",
   "mimetype": "text/x-python",
   "name": "python",
   "nbconvert_exporter": "python",
   "pygments_lexer": "ipython3",
   "version": "3.8.8"
  }
 },
 "nbformat": 4,
 "nbformat_minor": 5
}
