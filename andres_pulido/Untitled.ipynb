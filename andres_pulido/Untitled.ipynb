{
 "cells": [
  {
   "cell_type": "code",
   "execution_count": null,
   "id": "d9761bc9",
   "metadata": {},
   "outputs": [],
   "source": [
    "# data_six = data_truncated.loc[data_truncated['CountryName'].isin(['United States','Canada','Germany','India',\n",
    "#                                                                       'Japan','Sweden']) & data_truncated['Jurisdiction'].isin(['NAT_TOTAL']) ]"
   ]
  },
  {
   "cell_type": "code",
   "execution_count": null,
   "id": "e65b9981",
   "metadata": {},
   "outputs": [],
   "source": [
    "# Mandates - frames for all countries only\n",
    "\n",
    "\n",
    "\n",
    "# usa_df = data_six.loc[data_truncated['CountryName'].isin(['United States'])]\n",
    "# x_usa = usa_df[['H6_combined_numeric']]\n",
    "# dates_usa = usa_df[['Date']]\n",
    "\n",
    "# canada_df = data_six.loc[data_truncated['CountryName'].isin(['Canada'])]\n",
    "# x_canada = canada_df[['H6_combined_numeric']]\n",
    "# dates_canada = canada_df[['Date']]\n",
    "\n",
    "# germany_df = data_six.loc[data_truncated['CountryName'].isin(['Germany'])]\n",
    "# x_germany = germany_df[['H6_combined_numeric']]\n",
    "# dates_germany = germany_df[['Date']]\n",
    "\n",
    "# japan_df = data_six.loc[data_truncated['CountryName'].isin(['Japan'])]\n",
    "# x_japan = japan_df[['H6_combined_numeric']]\n",
    "# dates_japan = japan_df[['Date']]\n",
    "\n",
    "# india_df = data_six.loc[data_truncated['CountryName'].isin(['India'])]\n",
    "# x_india = india_df[['H6_combined_numeric']]\n",
    "# dates_india = india_df[['Date']]\n",
    "\n",
    "# sweden_df = data_six.loc[data_truncated['CountryName'].isin(['Sweden'])]\n",
    "# x_sweden = sweden_df[['H6_combined_numeric']]\n",
    "# dates_sweden = sweden_df[['Date']]"
   ]
  },
  {
   "cell_type": "code",
   "execution_count": null,
   "id": "523fa067",
   "metadata": {},
   "outputs": [],
   "source": [
    "# Plot Mandates - frames for all countries only\n",
    "\n",
    "#plt.subplots(figsize=(40, 18))\n",
    "# plt.plot(dates_usa,x_usa,linewidth=2, markersize=10,color=\"red\")\n",
    "# plt.plot(dates_canada,x_canada,linewidth=2, markersize=10,color=\"orange\")\n",
    "# plt.plot(dates_germany,x_germany,linewidth=2, markersize=10,color=\"blue\")\n",
    "# plt.plot(dates_india,x_india,linewidth=2, markersize=10,color=\"k\")\n",
    "# plt.plot(dates_japan,x_japan,linewidth=2, markersize=10,color=\"green\")\n",
    "# plt.plot(dates_sweden,x_sweden,linewidth=2, markersize=10,color=\"brown\")\n",
    "# plt.gca().legend(('United States','Canada','Germany','India','Japan','Sweden'),\n",
    "#                  frameon=False, loc='best', ncol=6,fontsize=25)\n",
    "# plt.xlabel('Country', fontsize=30)\n",
    "# plt.ylabel('Mandate Level', fontsize=30)\n",
    "# plt.xticks(fontsize= 20)\n",
    "# plt.yticks(fontsize= 20)\n",
    "# plt.savefig(\"Mandates_six_cities.png\")"
   ]
  }
 ],
 "metadata": {
  "kernelspec": {
   "display_name": "Python 3 (ipykernel)",
   "language": "python",
   "name": "python3"
  },
  "language_info": {
   "codemirror_mode": {
    "name": "ipython",
    "version": 3
   },
   "file_extension": ".py",
   "mimetype": "text/x-python",
   "name": "python",
   "nbconvert_exporter": "python",
   "pygments_lexer": "ipython3",
   "version": "3.9.7"
  }
 },
 "nbformat": 4,
 "nbformat_minor": 5
}
